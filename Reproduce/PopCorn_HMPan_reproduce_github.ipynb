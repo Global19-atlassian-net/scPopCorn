{
 "cells": [
  {
   "cell_type": "markdown",
   "metadata": {},
   "source": [
    "# Import scpopcorn"
   ]
  },
  {
   "cell_type": "code",
   "execution_count": 1,
   "metadata": {},
   "outputs": [
    {
     "name": "stderr",
     "output_type": "stream",
     "text": [
      "/Users/wangy42/anaconda3/lib/python3.6/site-packages/h5py/__init__.py:36: FutureWarning: Conversion of the second argument of issubdtype from `float` to `np.floating` is deprecated. In future, it will be treated as `np.float64 == np.dtype(float).type`.\n",
      "  from ._conv import register_converters as _register_converters\n"
     ]
    }
   ],
   "source": [
    "from scpopcorn import MergeSingleCell\n",
    "from scpopcorn import SingleCellData           "
   ]
  },
  {
   "cell_type": "markdown",
   "metadata": {},
   "source": [
    "# Unzip data files"
   ]
  },
  {
   "cell_type": "code",
   "execution_count": 2,
   "metadata": {},
   "outputs": [],
   "source": [
    "import zipfile\n",
    "zip_ref = zipfile.ZipFile(\"../Data/Human&Mouse_Pancreas/HMPan_Data.zip\", 'r')\n",
    "zip_ref.extractall(\"../Data/Human&Mouse_Pancreas/\")\n",
    "zip_ref.close()"
   ]
  },
  {
   "cell_type": "markdown",
   "metadata": {},
   "source": [
    "# Read in scRNA-seq row counts data "
   ]
  },
  {
   "cell_type": "code",
   "execution_count": 3,
   "metadata": {},
   "outputs": [
    {
     "name": "stdout",
     "output_type": "stream",
     "text": [
      "8569\n",
      "1886\n"
     ]
    }
   ],
   "source": [
    "File1 = \"../Data/Human&Mouse_Pancreas/pancreas_human.expressionMatrix.txt\"\n",
    "Test1 = SingleCellData()\n",
    "Test1.ReadData_SeuratFormat(File1)\n",
    "\n",
    "File2 = \"../Data/Human&Mouse_Pancreas/pancreas_mouse.expressionMatrix.txt\"\n",
    "Test2 = SingleCellData()\n",
    "Test2.ReadData_SeuratFormat(File2)"
   ]
  },
  {
   "cell_type": "markdown",
   "metadata": {},
   "source": [
    "## Read in ground truth cell labels (this is optional)"
   ]
  },
  {
   "cell_type": "code",
   "execution_count": 4,
   "metadata": {},
   "outputs": [
    {
     "name": "stdout",
     "output_type": "stream",
     "text": [
      "None number is 0 \n",
      "None number is 0 \n"
     ]
    }
   ],
   "source": [
    "File1T = \"../Data/Human&Mouse_Pancreas/pancreas_human.CellLabels.txt\"\n",
    "Test1.ReadTurth(File1T, 0, 1)\n",
    "\n",
    "File2T = \"../Data/Human&Mouse_Pancreas/pancreas_mouse.CellLabels.txt\"\n",
    "Test2.ReadTurth(File2T, 0, 1)"
   ]
  },
  {
   "cell_type": "markdown",
   "metadata": {},
   "source": [
    "# Normlize scRNA-seq data & find Highly Variable Genes & log transform"
   ]
  },
  {
   "cell_type": "code",
   "execution_count": 5,
   "metadata": {},
   "outputs": [
    {
     "name": "stderr",
     "output_type": "stream",
     "text": [
      "/Users/wangy42/anaconda3/lib/python3.6/site-packages/scanpy/preprocessing/simple.py:338: RuntimeWarning: invalid value encountered in true_divide\n",
      "  / disp_std_bin[df['mean_bin']].values\n",
      "/Users/wangy42/anaconda3/lib/python3.6/site-packages/scanpy/preprocessing/simple.py:359: RuntimeWarning: invalid value encountered in greater_equal\n",
      "  gene_subset = df['dispersion_norm'].values >= disp_cut_off\n",
      "/Users/wangy42/anaconda3/lib/python3.6/site-packages/scanpy/preprocessing/simple.py:359: RuntimeWarning: invalid value encountered in greater_equal\n",
      "  gene_subset = df['dispersion_norm'].values >= disp_cut_off\n"
     ]
    }
   ],
   "source": [
    "Test1.Normalized_per_Cell()\n",
    "Test1.FindHVG()\n",
    "Test1.Log1P()\n",
    "\n",
    "Test2.Normalized_per_Cell()\n",
    "Test2.FindHVG()\n",
    "Test2.Log1P()"
   ]
  },
  {
   "cell_type": "markdown",
   "metadata": {},
   "source": [
    "# Combine datasets and set number of supercells for each dataset"
   ]
  },
  {
   "cell_type": "code",
   "execution_count": 6,
   "metadata": {},
   "outputs": [],
   "source": [
    "NumSuperCell_Test1 = 50\n",
    "NumSuperCell_Test2 = 50\n",
    "MSingle = MergeSingleCell(Test1, Test2)\n",
    "MSingle.MultiDefineSuperCell(NumSuperCell_Test1,NumSuperCell_Test2)"
   ]
  },
  {
   "cell_type": "markdown",
   "metadata": {},
   "source": [
    "# Compute within dataset similairty and between dataset similarity"
   ]
  },
  {
   "cell_type": "code",
   "execution_count": 7,
   "metadata": {
    "scrolled": true
   },
   "outputs": [
    {
     "name": "stdout",
     "output_type": "stream",
     "text": [
      "20126\n",
      "14878\n",
      "12475\n",
      "6037\n",
      "4463\n",
      "2158\n"
     ]
    }
   ],
   "source": [
    "Mat_Center = MSingle.ConstructWithinSimiarlityMat_SuperCellLevel()\n",
    "Mat_Between = MSingle.ConstructBetweenSimiarlityMat_SuperCellLevel()"
   ]
  },
  {
   "cell_type": "markdown",
   "metadata": {},
   "source": [
    "# SDP solver"
   ]
  },
  {
   "cell_type": "code",
   "execution_count": 8,
   "metadata": {},
   "outputs": [
    {
     "name": "stdout",
     "output_type": "stream",
     "text": [
      "optimal value with SCS: 4.877361688592408\n"
     ]
    }
   ],
   "source": [
    "Estimate_NumCluster = 10 # initial guess of number of corresponding clusters, do not need to be accurate!!!\n",
    "MSingle.SDP_NKcut(Estimate_NumCluster)"
   ]
  },
  {
   "cell_type": "markdown",
   "metadata": {},
   "source": [
    "# Rounding & Automatically estimate number of clusters"
   ]
  },
  {
   "cell_type": "code",
   "execution_count": 9,
   "metadata": {},
   "outputs": [],
   "source": [
    "NumCluster_Min = 3 \n",
    "NumCluster_Max = 20\n",
    "# PopCorn will screen number of cluster from NumCluster_Min to NumCluster_Max and find the best number of clusters\n",
    "CResult = MSingle.NKcut_Rounding(NumCluster_Min, NumCluster_Max)"
   ]
  },
  {
   "cell_type": "markdown",
   "metadata": {},
   "source": [
    "# Evaluation of clustering results if ground truth is provided"
   ]
  },
  {
   "cell_type": "code",
   "execution_count": 10,
   "metadata": {
    "scrolled": false
   },
   "outputs": [
    {
     "name": "stdout",
     "output_type": "stream",
     "text": [
      "['quiescent_stellate', 'macrophage', 'alpha', 'ductal', 'schwann', 'endothelial', 'delta', 'gamma', 'beta', 'activated_stellate']\n",
      "['acinar', 'mast', 'B_cell', 't_cell', 'T_cell', 'immune_other', 'epsilon']\n",
      "###########Corresponding Clusterin 0##########\n",
      ">Dataset 0\n",
      "Number of Cells: 285\n",
      "0.350877% percentage of cells are alpha\n",
      "3.508772% percentage of cells are quiescent_stellate\n",
      "4.210526% percentage of cells are activated_stellate\n",
      "4.210526% percentage of cells are schwann\n",
      "87.719298% percentage of cells are endothelial\n",
      ">Dataset 1\n",
      "Number of Cells: 132\n",
      "100.000000% percentage of cells are endothelial\n",
      "common cluster is ['endothelial']\n",
      "###########Corresponding Clusterin 1##########\n",
      ">Dataset 0\n",
      "Number of Cells: 2502\n",
      "0.119904% percentage of cells are alpha\n",
      "0.159872% percentage of cells are acinar\n",
      "0.359712% percentage of cells are delta\n",
      "99.360512% percentage of cells are beta\n",
      ">Dataset 1\n",
      "Number of Cells: 900\n",
      "0.111111% percentage of cells are ductal\n",
      "0.111111% percentage of cells are alpha\n",
      "0.111111% percentage of cells are delta\n",
      "1.000000% percentage of cells are B_cell\n",
      "98.666667% percentage of cells are beta\n",
      "common cluster is ['beta']\n",
      "###########Corresponding Clusterin 2##########\n",
      ">Dataset 0\n",
      "Number of Cells: 1122\n",
      "0.089127% percentage of cells are alpha\n",
      "0.267380% percentage of cells are beta\n",
      "3.743316% percentage of cells are acinar\n",
      "95.900178% percentage of cells are ductal\n",
      ">Dataset 1\n",
      "Number of Cells: 272\n",
      "0.367647% percentage of cells are alpha\n",
      "99.632353% percentage of cells are ductal\n",
      "common cluster is ['ductal']\n",
      "###########Corresponding Clusterin 3##########\n",
      ">Dataset 0\n",
      "Number of Cells: 866\n",
      "0.115473% percentage of cells are activated_stellate\n",
      "0.115473% percentage of cells are quiescent_stellate\n",
      "0.346420% percentage of cells are epsilon\n",
      "0.808314% percentage of cells are alpha\n",
      "2.078522% percentage of cells are beta\n",
      "28.868360% percentage of cells are gamma\n",
      "67.667436% percentage of cells are delta\n",
      ">Dataset 1\n",
      "Number of Cells: 254\n",
      "0.787402% percentage of cells are beta\n",
      "14.960630% percentage of cells are gamma\n",
      "84.251969% percentage of cells are delta\n",
      "common cluster is ['delta']\n",
      "###########Corresponding Clusterin 4##########\n",
      ">Dataset 0\n",
      "Number of Cells: 36\n",
      "13.888889% percentage of cells are macrophage\n",
      "16.666667% percentage of cells are t_cell\n",
      "69.444444% percentage of cells are mast\n",
      ">Dataset 1\n",
      "Number of Cells: 16\n",
      "6.250000% percentage of cells are B_cell\n",
      "43.750000% percentage of cells are T_cell\n",
      "50.000000% percentage of cells are immune_other\n",
      "###########Corresponding Clusterin 5##########\n",
      ">Dataset 0\n",
      "Number of Cells: 50\n",
      "100.000000% percentage of cells are macrophage\n",
      ">Dataset 1\n",
      "Number of Cells: 37\n",
      "2.702703% percentage of cells are endothelial\n",
      "97.297297% percentage of cells are macrophage\n",
      "common cluster is ['macrophage']\n",
      "###########Corresponding Clusterin 6##########\n",
      ">Dataset 0\n",
      "Number of Cells: 29\n",
      "3.448276% percentage of cells are endothelial\n",
      "10.344828% percentage of cells are activated_stellate\n",
      "86.206897% percentage of cells are quiescent_stellate\n",
      ">Dataset 1\n",
      "###########Corresponding Clusterin 7##########\n",
      ">Dataset 0\n",
      "Number of Cells: 2359\n",
      "0.042391% percentage of cells are t_cell\n",
      "0.042391% percentage of cells are quiescent_stellate\n",
      "0.211954% percentage of cells are delta\n",
      "0.211954% percentage of cells are gamma\n",
      "0.635863% percentage of cells are epsilon\n",
      "0.763035% percentage of cells are beta\n",
      "98.092412% percentage of cells are alpha\n",
      ">Dataset 1\n",
      "Number of Cells: 199\n",
      "1.507538% percentage of cells are gamma\n",
      "1.507538% percentage of cells are delta\n",
      "2.010050% percentage of cells are beta\n",
      "94.974874% percentage of cells are alpha\n",
      "common cluster is ['alpha']\n",
      "###########Corresponding Clusterin 8##########\n",
      ">Dataset 0\n",
      "Number of Cells: 914\n",
      "0.109409% percentage of cells are ductal\n",
      "0.109409% percentage of cells are delta\n",
      "99.781182% percentage of cells are acinar\n",
      ">Dataset 1\n",
      "unique cluster is ['acinar']\n",
      "###########Corresponding Clusterin 9##########\n",
      ">Dataset 0\n",
      "Number of Cells: 273\n",
      "0.366300% percentage of cells are endothelial\n",
      "0.366300% percentage of cells are schwann\n",
      "1.465201% percentage of cells are quiescent_stellate\n",
      "97.802198% percentage of cells are activated_stellate\n",
      ">Dataset 1\n",
      "Number of Cells: 20\n",
      "30.000000% percentage of cells are schwann\n",
      "70.000000% percentage of cells are activated_stellate\n",
      "common cluster is ['activated_stellate']\n",
      "###########Corresponding Clusterin 10##########\n",
      ">Dataset 0\n",
      "Number of Cells: 133\n",
      "0.751880% percentage of cells are activated_stellate\n",
      "99.248120% percentage of cells are quiescent_stellate\n",
      ">Dataset 1\n",
      "Number of Cells: 46\n",
      "100.000000% percentage of cells are quiescent_stellate\n",
      "common cluster is ['quiescent_stellate']\n",
      "###########Corresponding Clusterin 11##########\n",
      ">Dataset 0\n",
      ">Dataset 1\n",
      "[0.94211693 0.94909862]\n",
      "Average of percentage of corrected clustered cells is 0.945608\n",
      "['endothelial', 'beta', 'ductal', 'delta', 'macrophage', 'alpha', 'activated_stellate', 'quiescent_stellate']\n",
      "['quiescent_stellate', 'macrophage', 'alpha', 'ductal', 'endothelial', 'delta', 'beta', 'activated_stellate']\n",
      "8 out of 10 common cell types are identified\n",
      "['acinar']\n",
      "1 out of 7 unique cell types are identified\n"
     ]
    }
   ],
   "source": [
    "MSingle.Evaluation(CResult)"
   ]
  },
  {
   "cell_type": "markdown",
   "metadata": {},
   "source": [
    "# Similairty between cells across datasets"
   ]
  },
  {
   "cell_type": "code",
   "execution_count": 11,
   "metadata": {},
   "outputs": [
    {
     "name": "stdout",
     "output_type": "stream",
     "text": [
      "Similairty between cells across datasets of Cluster 0 is 2.290327\n",
      "Similairty between cells across datasets of Cluster 1 is 4.637518\n",
      "Similairty between cells across datasets of Cluster 2 is 2.719980\n",
      "Similairty between cells across datasets of Cluster 3 is 2.024076\n",
      "Similairty between cells across datasets of Cluster 4 is 0.605922\n",
      "Similairty between cells across datasets of Cluster 5 is 0.856091\n",
      "Similairty between cells across datasets of Cluster 6 is 0.362500\n",
      "Similairty between cells across datasets of Cluster 7 is 2.111190\n",
      "Cluster 8 is an unique cluster\n",
      "Similairty between cells across datasets of Cluster 9 is 0.937449\n",
      "Similairty between cells across datasets of Cluster 10 is 0.775758\n",
      "Cluster 11 is an unique cluster\n"
     ]
    }
   ],
   "source": [
    "MSingle.StatResult()"
   ]
  },
  {
   "cell_type": "markdown",
   "metadata": {},
   "source": [
    "# Umap plots using the results generated by scPopCorn"
   ]
  },
  {
   "cell_type": "code",
   "execution_count": 12,
   "metadata": {},
   "outputs": [
    {
     "data": {
      "image/png": "[encoded data removed]",
      "text/plain": [
       "<Figure size 1440x720 with 2 Axes>"
      ]
     },
     "metadata": {},
     "output_type": "display_data"
    }
   ],
   "source": [
    "MSingle.Umap_Result()"
   ]
  },
  {
   "cell_type": "markdown",
   "metadata": {},
   "source": [
    "# Output PopCorn results into a file"
   ]
  },
  {
   "cell_type": "code",
   "execution_count": 13,
   "metadata": {},
   "outputs": [],
   "source": [
    "FileName = \"scPopCorn_Human_Mouse_Pan_Reprodcue_Result.txt\"\n",
    "MSingle.OutputResult(FileName)"
   ]
  },
  {
   "cell_type": "code",
   "execution_count": null,
   "metadata": {},
   "outputs": [],
   "source": []
  },
  {
   "cell_type": "code",
   "execution_count": null,
   "metadata": {},
   "outputs": [],
   "source": []
  },
  {
   "cell_type": "code",
   "execution_count": null,
   "metadata": {},
   "outputs": [],
   "source": []
  }
 ],
 "metadata": {
  "kernelspec": {
   "display_name": "Python 3",
   "language": "python",
   "name": "python3"
  },
  "language_info": {
   "codemirror_mode": {
    "name": "ipython",
    "version": 3
   },
   "file_extension": ".py",
   "mimetype": "text/x-python",
   "name": "python",
   "nbconvert_exporter": "python",
   "pygments_lexer": "ipython3",
   "version": "3.6.4"
  }
 },
 "nbformat": 4,
 "nbformat_minor": 2
}
